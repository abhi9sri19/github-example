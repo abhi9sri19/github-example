{
    "cells": [
        {
            "cell_type": "markdown",
            "metadata": {
                "collapsed": true
            },
            "source": "### Introduction\nThis final project explores the best locations for Indian restaurants throughout the city of New York. New York is a major metropolitan area with more than 8.4 million people living within city limits. Additionally, I will attempt to answer the questions \u201cWhere should I open an Indian Restaurant?\u201d and \u201cWhere should I stay If I want great Indian food?\u201d\n\n### Data\nIn order to answer the above questions, data on New York City neighborhoods, boroughs to include boundaries, latitude, longitude, restaurants, and restaurant ratings and tips are required.\n\nNew York City data containing the neighborhoods and boroughs, latitudes, and longitudes will be obtained from the data source: https://cocl.us/new_york_dataset\n\nNew York City data containing neighborhood boundaries will be obtained from the data source: https://data.cityofnewyork.us/City-Government/Borough-Boundaries/tqmj-j8zm\n\nAll data related to locations and quality of Indian restaurants will be obtained via the FourSquare API utilized via the Request library in Python.\n\n### Methodology\n\u2022 Data will be collected from https://cocl.us/new_york_dataset and cleaned and processed into a dataframe.\n\n\u2022 FourSquare be used to locate all venues and then filtered by Indian restaurants. Ratings, tips, and likes by users will be counted and added to the dataframe.\n\n\u2022 Data will be sorted based on rankings\n\n\u2022 Finally, the data be will be visually assessed using graphing from various Python libraries.\n\n### Problem Statement\nWhat is / are the best location(s) for Indian cuisine in New York City?  \nIn what Neighborhood and/or borough should I open an Indian restaurant to have the best chance of being successful?  \nWhere would I go in New York City to have the best Indian food?"
        },
        {
            "cell_type": "code",
            "execution_count": null,
            "metadata": {},
            "outputs": [],
            "source": ""
        }
    ],
    "metadata": {
        "kernelspec": {
            "display_name": "Python 3.6",
            "language": "python",
            "name": "python3"
        },
        "language_info": {
            "codemirror_mode": {
                "name": "ipython",
                "version": 3
            },
            "file_extension": ".py",
            "mimetype": "text/x-python",
            "name": "python",
            "nbconvert_exporter": "python",
            "pygments_lexer": "ipython3",
            "version": "3.6.9"
        }
    },
    "nbformat": 4,
    "nbformat_minor": 1
}