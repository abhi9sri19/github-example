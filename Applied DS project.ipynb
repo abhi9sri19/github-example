{
    "cells": [
        {
            "cell_type": "code",
            "execution_count": 2,
            "metadata": {},
            "outputs": [],
            "source": "import pandas as pd\nimport requests\nfrom bs4 import BeautifulSoup"
        },
        {
            "cell_type": "markdown",
            "metadata": {},
            "source": "# Code to webscape the table data from wikipedia page"
        },
        {
            "cell_type": "code",
            "execution_count": 26,
            "metadata": {},
            "outputs": [
                {
                    "data": {
                        "text/html": "<div>\n<style scoped>\n    .dataframe tbody tr th:only-of-type {\n        vertical-align: middle;\n    }\n\n    .dataframe tbody tr th {\n        vertical-align: top;\n    }\n\n    .dataframe thead th {\n        text-align: right;\n    }\n</style>\n<table border=\"1\" class=\"dataframe\">\n  <thead>\n    <tr style=\"text-align: right;\">\n      <th></th>\n      <th>Postal Code</th>\n      <th>Borough</th>\n      <th>Neighborhood</th>\n    </tr>\n  </thead>\n  <tbody>\n    <tr>\n      <th>0</th>\n      <td>M1A</td>\n      <td>Not assigned</td>\n      <td>Not assigned</td>\n    </tr>\n    <tr>\n      <th>1</th>\n      <td>M2A</td>\n      <td>Not assigned</td>\n      <td>Not assigned</td>\n    </tr>\n    <tr>\n      <th>2</th>\n      <td>M3A</td>\n      <td>North York</td>\n      <td>Parkwoods</td>\n    </tr>\n    <tr>\n      <th>3</th>\n      <td>M4A</td>\n      <td>North York</td>\n      <td>Victoria Village</td>\n    </tr>\n    <tr>\n      <th>4</th>\n      <td>M5A</td>\n      <td>Downtown Toronto</td>\n      <td>Regent Park, Harbourfront</td>\n    </tr>\n  </tbody>\n</table>\n</div>",
                        "text/plain": "  Postal Code           Borough               Neighborhood\n0         M1A      Not assigned               Not assigned\n1         M2A      Not assigned               Not assigned\n2         M3A        North York                  Parkwoods\n3         M4A        North York           Victoria Village\n4         M5A  Downtown Toronto  Regent Park, Harbourfront"
                    },
                    "execution_count": 26,
                    "metadata": {},
                    "output_type": "execute_result"
                }
            ],
            "source": "res = requests.get(\"https://en.wikipedia.org/wiki/List_of_postal_codes_of_Canada:_M\")\nsoup = BeautifulSoup(res.content,'lxml')\ntable = soup.find_all('table')[0] \ndf = pd.read_html(str(table))\ndf = df[0]\ndf.head()"
        },
        {
            "cell_type": "markdown",
            "metadata": {},
            "source": "# Removal of Not Assigned values from column Borough"
        },
        {
            "cell_type": "code",
            "execution_count": 30,
            "metadata": {
                "scrolled": false
            },
            "outputs": [
                {
                    "data": {
                        "text/plain": "North York          24\nDowntown Toronto    19\nScarborough         17\nEtobicoke           12\nCentral Toronto      9\nWest Toronto         6\nEast York            5\nEast Toronto         5\nYork                 5\nMississauga          1\nName: Borough, dtype: int64"
                    },
                    "execution_count": 30,
                    "metadata": {},
                    "output_type": "execute_result"
                }
            ],
            "source": "df = df[df['Borough'] != 'Not assigned']\ndf['Borough'].value_counts()"
        },
        {
            "cell_type": "markdown",
            "metadata": {},
            "source": "# Neighbourhood with 0 Not Assigned values"
        },
        {
            "cell_type": "code",
            "execution_count": 34,
            "metadata": {},
            "outputs": [
                {
                    "data": {
                        "text/html": "<div>\n<style scoped>\n    .dataframe tbody tr th:only-of-type {\n        vertical-align: middle;\n    }\n\n    .dataframe tbody tr th {\n        vertical-align: top;\n    }\n\n    .dataframe thead th {\n        text-align: right;\n    }\n</style>\n<table border=\"1\" class=\"dataframe\">\n  <thead>\n    <tr style=\"text-align: right;\">\n      <th></th>\n      <th>Postal Code</th>\n      <th>Borough</th>\n      <th>Neighborhood</th>\n    </tr>\n  </thead>\n  <tbody>\n  </tbody>\n</table>\n</div>",
                        "text/plain": "Empty DataFrame\nColumns: [Postal Code, Borough, Neighborhood]\nIndex: []"
                    },
                    "execution_count": 34,
                    "metadata": {},
                    "output_type": "execute_result"
                }
            ],
            "source": "df[df.Neighborhood == 'Not assigned']"
        },
        {
            "cell_type": "markdown",
            "metadata": {},
            "source": "# Shaoe of dataframe"
        },
        {
            "cell_type": "code",
            "execution_count": 35,
            "metadata": {},
            "outputs": [
                {
                    "data": {
                        "text/plain": "(103, 3)"
                    },
                    "execution_count": 35,
                    "metadata": {},
                    "output_type": "execute_result"
                }
            ],
            "source": "df.shape"
        },
        {
            "cell_type": "code",
            "execution_count": 56,
            "metadata": {},
            "outputs": [
                {
                    "name": "stdout",
                    "output_type": "stream",
                    "text": "--2020-06-19 15:14:28--  https://cocl.us/Geospatial_data/\nResolving cocl.us (cocl.us)... 169.48.113.194, 158.85.108.83, 158.85.108.86\nConnecting to cocl.us (cocl.us)|169.48.113.194|:443... connected.\nHTTP request sent, awaiting response... 301 Moved Permanently\nLocation: https://ibm.box.com/shared/static/9afzr83pps4pwf2smjjcf1y5mvgb18rr.csv [following]\n--2020-06-19 15:14:29--  https://ibm.box.com/shared/static/9afzr83pps4pwf2smjjcf1y5mvgb18rr.csv\nResolving ibm.box.com (ibm.box.com)... 107.152.26.197\nConnecting to ibm.box.com (ibm.box.com)|107.152.26.197|:443... connected.\nHTTP request sent, awaiting response... 301 Moved Permanently\nLocation: /public/static/9afzr83pps4pwf2smjjcf1y5mvgb18rr.csv [following]\n--2020-06-19 15:14:29--  https://ibm.box.com/public/static/9afzr83pps4pwf2smjjcf1y5mvgb18rr.csv\nReusing existing connection to ibm.box.com:443.\nHTTP request sent, awaiting response... 301 Moved Permanently\nLocation: https://ibm.ent.box.com/public/static/9afzr83pps4pwf2smjjcf1y5mvgb18rr.csv [following]\n--2020-06-19 15:14:29--  https://ibm.ent.box.com/public/static/9afzr83pps4pwf2smjjcf1y5mvgb18rr.csv\nResolving ibm.ent.box.com (ibm.ent.box.com)... 107.152.29.201\nConnecting to ibm.ent.box.com (ibm.ent.box.com)|107.152.29.201|:443... connected.\nHTTP request sent, awaiting response... 302 Found\nLocation: https://public.boxcloud.com/d/1/b1!WMczpzkoa9X50HjUEVSB89FOyUg9uI-G_CzaayyyXpYcIZtudjcv6yTnfWeGKGSHwaUE3uRUghcK2p7cDr8SE58IgVu2mfnRZs9pf_uQHdg6VrV_THMhrdCFcJR1dai1IHll83xpnctKlYxiO2vxgqVDqsncLk8BhKy4ZGFVztaIxJ59BkoqL5Xcj-KDDzTnO3uHrDey3EXcORQwYF3PidjAhsFJgeN8JXjLUvM46WsSEhsdUH3h93fD3pYDHKyej0SU8T5UuaMVNqbBsjwQDRj76Ve8O54qAczf439zCoN1UQM2I57cb_qjk_P30Ilwiiw7TERYKoBW0ZPwd2NNNdSvYuVMQx0PkT7JWmiHGQ__EJnamEjZS0BCGhA-uwtLK-PazESfjyWH8TXf23xm3kD9sCSR5uYcMr068Hr8TKbpqnp9Rl4-694_VHT8b2UQO4Ft0vLrqv-JXdPc_ZEtRM4cfNZuRWqNk8mnm997xXLJdvDsvnoPPKStxbJnSheUai0JcyZ6vplWFrj6Cj7fcPdNI6EqI0KQG4tNPyeM0gUY_R77CiDa1e8uLOg6EBXJgEuqfkdpb2sEj1-lIpso0RafGzEU85Dexpya4wX41Tx4QZ67cPxrelIViU50tRJJ2-TuayORyAnOcdlylz6meJ_gNPGz_U10EXZ7mT8a_7HioeyVTRsQ1Ql8ASnhYXbHBHpzp3fqN_mPo8s1erQOCC3ImP1d9wtkl2npWRodOHzj_rS5QqLvGjDcX_yvOpX6p3quT-3usJa193rntspHoQsVAraX7rLiD-U7JBzqb91-GheAo0N3vd7iiTs_QamndWiQxLZoBMisUD3ZFv8agMCQQ1VfcZ6GcNPYEwIS7E0Nxh21dODkSxlxRWsH_Ixb7i2Nps84bbEWxV0w6cUzr39CVA8Q6m9jGMCGJG0H-9sOGfRzbbKwHq0l4aNbkmtusKrg6FgC-DQu659xsdAXQOremIFejjtMpfFc1dhJzUldfmMaDWHGS8NjTmC_y4UHSRhtNQYtbdwKRKLxICYJZgvn66nxKG8Xe3OffXw9tNR4_pqMxGULND8Vaw7BVj7IFwjVLbGiqxf0QuG1X5S1ZyTKjlg0Kb5AjbJj50xtr0GQgegXxY1M71q2egqeS3XDynBGpPX_PhJNeq4w_X3NDexwNBtX9rjezz6s0h_RFpw-A4SC6k9aKy37CxPtAWkXBWm9K6PHokmC7_0rkdDXQziY7BUiVz40YqAcvaw8HOF-DPrXf2Md8UGZ62smhy0-hXj0G9Ag203XEBCHy7T2AOy5MUWfgPaWP7MmhlB0CaU8QZlzvRsc-iDTYypAUTgan-a_RvXFZnpSQXVDaNxhzxSbre-T6qaYyN-jyYVcH3pAnobcql2hXdvoKMzsCC4L9zSBsHj6M5kMPzd80B9qLju-bDCe1c1ou1SauvbnysKd/download [following]\n--2020-06-19 15:14:30--  https://public.boxcloud.com/d/1/b1!WMczpzkoa9X50HjUEVSB89FOyUg9uI-G_CzaayyyXpYcIZtudjcv6yTnfWeGKGSHwaUE3uRUghcK2p7cDr8SE58IgVu2mfnRZs9pf_uQHdg6VrV_THMhrdCFcJR1dai1IHll83xpnctKlYxiO2vxgqVDqsncLk8BhKy4ZGFVztaIxJ59BkoqL5Xcj-KDDzTnO3uHrDey3EXcORQwYF3PidjAhsFJgeN8JXjLUvM46WsSEhsdUH3h93fD3pYDHKyej0SU8T5UuaMVNqbBsjwQDRj76Ve8O54qAczf439zCoN1UQM2I57cb_qjk_P30Ilwiiw7TERYKoBW0ZPwd2NNNdSvYuVMQx0PkT7JWmiHGQ__EJnamEjZS0BCGhA-uwtLK-PazESfjyWH8TXf23xm3kD9sCSR5uYcMr068Hr8TKbpqnp9Rl4-694_VHT8b2UQO4Ft0vLrqv-JXdPc_ZEtRM4cfNZuRWqNk8mnm997xXLJdvDsvnoPPKStxbJnSheUai0JcyZ6vplWFrj6Cj7fcPdNI6EqI0KQG4tNPyeM0gUY_R77CiDa1e8uLOg6EBXJgEuqfkdpb2sEj1-lIpso0RafGzEU85Dexpya4wX41Tx4QZ67cPxrelIViU50tRJJ2-TuayORyAnOcdlylz6meJ_gNPGz_U10EXZ7mT8a_7HioeyVTRsQ1Ql8ASnhYXbHBHpzp3fqN_mPo8s1erQOCC3ImP1d9wtkl2npWRodOHzj_rS5QqLvGjDcX_yvOpX6p3quT-3usJa193rntspHoQsVAraX7rLiD-U7JBzqb91-GheAo0N3vd7iiTs_QamndWiQxLZoBMisUD3ZFv8agMCQQ1VfcZ6GcNPYEwIS7E0Nxh21dODkSxlxRWsH_Ixb7i2Nps84bbEWxV0w6cUzr39CVA8Q6m9jGMCGJG0H-9sOGfRzbbKwHq0l4aNbkmtusKrg6FgC-DQu659xsdAXQOremIFejjtMpfFc1dhJzUldfmMaDWHGS8NjTmC_y4UHSRhtNQYtbdwKRKLxICYJZgvn66nxKG8Xe3OffXw9tNR4_pqMxGULND8Vaw7BVj7IFwjVLbGiqxf0QuG1X5S1ZyTKjlg0Kb5AjbJj50xtr0GQgegXxY1M71q2egqeS3XDynBGpPX_PhJNeq4w_X3NDexwNBtX9rjezz6s0h_RFpw-A4SC6k9aKy37CxPtAWkXBWm9K6PHokmC7_0rkdDXQziY7BUiVz40YqAcvaw8HOF-DPrXf2Md8UGZ62smhy0-hXj0G9Ag203XEBCHy7T2AOy5MUWfgPaWP7MmhlB0CaU8QZlzvRsc-iDTYypAUTgan-a_RvXFZnpSQXVDaNxhzxSbre-T6qaYyN-jyYVcH3pAnobcql2hXdvoKMzsCC4L9zSBsHj6M5kMPzd80B9qLju-bDCe1c1ou1SauvbnysKd/download\nResolving public.boxcloud.com (public.boxcloud.com)... 107.152.29.200\nConnecting to public.boxcloud.com (public.boxcloud.com)|107.152.29.200|:443... connected.\nHTTP request sent, awaiting response... 200 OK\nLength: 2891 (2.8K) [text/csv]\nSaving to: \u2018cord.csv\u2019\n\n100%[======================================>] 2,891       --.-K/s   in 0s      \n\n2020-06-19 15:14:30 (27.5 MB/s) - \u2018cord.csv\u2019 saved [2891/2891]\n\n"
                }
            ],
            "source": "!wget -O cord.csv https://cocl.us/Geospatial_data/"
        },
        {
            "cell_type": "code",
            "execution_count": 57,
            "metadata": {},
            "outputs": [
                {
                    "data": {
                        "text/html": "<div>\n<style scoped>\n    .dataframe tbody tr th:only-of-type {\n        vertical-align: middle;\n    }\n\n    .dataframe tbody tr th {\n        vertical-align: top;\n    }\n\n    .dataframe thead th {\n        text-align: right;\n    }\n</style>\n<table border=\"1\" class=\"dataframe\">\n  <thead>\n    <tr style=\"text-align: right;\">\n      <th></th>\n      <th>Postal Code</th>\n      <th>Latitude</th>\n      <th>Longitude</th>\n    </tr>\n  </thead>\n  <tbody>\n    <tr>\n      <th>0</th>\n      <td>M1B</td>\n      <td>43.806686</td>\n      <td>-79.194353</td>\n    </tr>\n    <tr>\n      <th>1</th>\n      <td>M1C</td>\n      <td>43.784535</td>\n      <td>-79.160497</td>\n    </tr>\n    <tr>\n      <th>2</th>\n      <td>M1E</td>\n      <td>43.763573</td>\n      <td>-79.188711</td>\n    </tr>\n    <tr>\n      <th>3</th>\n      <td>M1G</td>\n      <td>43.770992</td>\n      <td>-79.216917</td>\n    </tr>\n    <tr>\n      <th>4</th>\n      <td>M1H</td>\n      <td>43.773136</td>\n      <td>-79.239476</td>\n    </tr>\n  </tbody>\n</table>\n</div>",
                        "text/plain": "  Postal Code   Latitude  Longitude\n0         M1B  43.806686 -79.194353\n1         M1C  43.784535 -79.160497\n2         M1E  43.763573 -79.188711\n3         M1G  43.770992 -79.216917\n4         M1H  43.773136 -79.239476"
                    },
                    "execution_count": 57,
                    "metadata": {},
                    "output_type": "execute_result"
                }
            ],
            "source": "cord = pd.read_csv(\"cord.csv\", delimiter=\",\")\ncord[0:5]"
        },
        {
            "cell_type": "code",
            "execution_count": 60,
            "metadata": {},
            "outputs": [
                {
                    "data": {
                        "text/html": "<div>\n<style scoped>\n    .dataframe tbody tr th:only-of-type {\n        vertical-align: middle;\n    }\n\n    .dataframe tbody tr th {\n        vertical-align: top;\n    }\n\n    .dataframe thead th {\n        text-align: right;\n    }\n</style>\n<table border=\"1\" class=\"dataframe\">\n  <thead>\n    <tr style=\"text-align: right;\">\n      <th></th>\n      <th>Postal Code</th>\n      <th>Borough</th>\n      <th>Neighborhood</th>\n      <th>Latitude</th>\n      <th>Longitude</th>\n    </tr>\n  </thead>\n  <tbody>\n    <tr>\n      <th>0</th>\n      <td>M3A</td>\n      <td>North York</td>\n      <td>Parkwoods</td>\n      <td>43.753259</td>\n      <td>-79.329656</td>\n    </tr>\n    <tr>\n      <th>1</th>\n      <td>M4A</td>\n      <td>North York</td>\n      <td>Victoria Village</td>\n      <td>43.725882</td>\n      <td>-79.315572</td>\n    </tr>\n    <tr>\n      <th>2</th>\n      <td>M5A</td>\n      <td>Downtown Toronto</td>\n      <td>Regent Park, Harbourfront</td>\n      <td>43.654260</td>\n      <td>-79.360636</td>\n    </tr>\n    <tr>\n      <th>3</th>\n      <td>M6A</td>\n      <td>North York</td>\n      <td>Lawrence Manor, Lawrence Heights</td>\n      <td>43.718518</td>\n      <td>-79.464763</td>\n    </tr>\n    <tr>\n      <th>4</th>\n      <td>M7A</td>\n      <td>Downtown Toronto</td>\n      <td>Queen's Park, Ontario Provincial Government</td>\n      <td>43.662301</td>\n      <td>-79.389494</td>\n    </tr>\n  </tbody>\n</table>\n</div>",
                        "text/plain": "  Postal Code           Borough                                 Neighborhood  \\\n0         M3A        North York                                    Parkwoods   \n1         M4A        North York                             Victoria Village   \n2         M5A  Downtown Toronto                    Regent Park, Harbourfront   \n3         M6A        North York             Lawrence Manor, Lawrence Heights   \n4         M7A  Downtown Toronto  Queen's Park, Ontario Provincial Government   \n\n    Latitude  Longitude  \n0  43.753259 -79.329656  \n1  43.725882 -79.315572  \n2  43.654260 -79.360636  \n3  43.718518 -79.464763  \n4  43.662301 -79.389494  "
                    },
                    "execution_count": 60,
                    "metadata": {},
                    "output_type": "execute_result"
                }
            ],
            "source": "data = pd.merge(df, cord, left_on='Postal Code', right_on='Postal Code')\ndata.head()"
        },
        {
            "cell_type": "code",
            "execution_count": null,
            "metadata": {},
            "outputs": [],
            "source": ""
        }
    ],
    "metadata": {
        "kernelspec": {
            "display_name": "Python 3.6",
            "language": "python",
            "name": "python3"
        },
        "language_info": {
            "codemirror_mode": {
                "name": "ipython",
                "version": 3
            },
            "file_extension": ".py",
            "mimetype": "text/x-python",
            "name": "python",
            "nbconvert_exporter": "python",
            "pygments_lexer": "ipython3",
            "version": "3.6.9"
        }
    },
    "nbformat": 4,
    "nbformat_minor": 1
}